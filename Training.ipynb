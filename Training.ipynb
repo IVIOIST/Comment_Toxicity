{
 "cells": [
  {
   "cell_type": "markdown",
   "metadata": {},
   "source": [
    "Importing Dependencies"
   ]
  },
  {
   "cell_type": "code",
   "execution_count": 3,
   "metadata": {},
   "outputs": [],
   "source": [
    "import os \n",
    "import pandas as pd\n",
    "import tensorflow as tf\n",
    "import numpy as np"
   ]
  },
  {
   "cell_type": "code",
   "execution_count": 4,
   "metadata": {},
   "outputs": [],
   "source": [
    "dataframe = pd.read_csv(os.path.join('jigsaw-toxic-comment-classification-challenge','train.csv', 'train.csv' ))"
   ]
  },
  {
   "cell_type": "code",
   "execution_count": 5,
   "metadata": {},
   "outputs": [
    {
     "data": {
      "text/html": [
       "<div>\n",
       "<style scoped>\n",
       "    .dataframe tbody tr th:only-of-type {\n",
       "        vertical-align: middle;\n",
       "    }\n",
       "\n",
       "    .dataframe tbody tr th {\n",
       "        vertical-align: top;\n",
       "    }\n",
       "\n",
       "    .dataframe thead th {\n",
       "        text-align: right;\n",
       "    }\n",
       "</style>\n",
       "<table border=\"1\" class=\"dataframe\">\n",
       "  <thead>\n",
       "    <tr style=\"text-align: right;\">\n",
       "      <th></th>\n",
       "      <th>id</th>\n",
       "      <th>comment_text</th>\n",
       "      <th>toxic</th>\n",
       "      <th>severe_toxic</th>\n",
       "      <th>obscene</th>\n",
       "      <th>threat</th>\n",
       "      <th>insult</th>\n",
       "      <th>identity_hate</th>\n",
       "    </tr>\n",
       "  </thead>\n",
       "  <tbody>\n",
       "    <tr>\n",
       "      <th>0</th>\n",
       "      <td>0000997932d777bf</td>\n",
       "      <td>Explanation\\nWhy the edits made under my usern...</td>\n",
       "      <td>0</td>\n",
       "      <td>0</td>\n",
       "      <td>0</td>\n",
       "      <td>0</td>\n",
       "      <td>0</td>\n",
       "      <td>0</td>\n",
       "    </tr>\n",
       "    <tr>\n",
       "      <th>1</th>\n",
       "      <td>000103f0d9cfb60f</td>\n",
       "      <td>D'aww! He matches this background colour I'm s...</td>\n",
       "      <td>0</td>\n",
       "      <td>0</td>\n",
       "      <td>0</td>\n",
       "      <td>0</td>\n",
       "      <td>0</td>\n",
       "      <td>0</td>\n",
       "    </tr>\n",
       "    <tr>\n",
       "      <th>2</th>\n",
       "      <td>000113f07ec002fd</td>\n",
       "      <td>Hey man, I'm really not trying to edit war. It...</td>\n",
       "      <td>0</td>\n",
       "      <td>0</td>\n",
       "      <td>0</td>\n",
       "      <td>0</td>\n",
       "      <td>0</td>\n",
       "      <td>0</td>\n",
       "    </tr>\n",
       "    <tr>\n",
       "      <th>3</th>\n",
       "      <td>0001b41b1c6bb37e</td>\n",
       "      <td>\"\\nMore\\nI can't make any real suggestions on ...</td>\n",
       "      <td>0</td>\n",
       "      <td>0</td>\n",
       "      <td>0</td>\n",
       "      <td>0</td>\n",
       "      <td>0</td>\n",
       "      <td>0</td>\n",
       "    </tr>\n",
       "    <tr>\n",
       "      <th>4</th>\n",
       "      <td>0001d958c54c6e35</td>\n",
       "      <td>You, sir, are my hero. Any chance you remember...</td>\n",
       "      <td>0</td>\n",
       "      <td>0</td>\n",
       "      <td>0</td>\n",
       "      <td>0</td>\n",
       "      <td>0</td>\n",
       "      <td>0</td>\n",
       "    </tr>\n",
       "    <tr>\n",
       "      <th>...</th>\n",
       "      <td>...</td>\n",
       "      <td>...</td>\n",
       "      <td>...</td>\n",
       "      <td>...</td>\n",
       "      <td>...</td>\n",
       "      <td>...</td>\n",
       "      <td>...</td>\n",
       "      <td>...</td>\n",
       "    </tr>\n",
       "    <tr>\n",
       "      <th>159566</th>\n",
       "      <td>ffe987279560d7ff</td>\n",
       "      <td>\":::::And for the second time of asking, when ...</td>\n",
       "      <td>0</td>\n",
       "      <td>0</td>\n",
       "      <td>0</td>\n",
       "      <td>0</td>\n",
       "      <td>0</td>\n",
       "      <td>0</td>\n",
       "    </tr>\n",
       "    <tr>\n",
       "      <th>159567</th>\n",
       "      <td>ffea4adeee384e90</td>\n",
       "      <td>You should be ashamed of yourself \\n\\nThat is ...</td>\n",
       "      <td>0</td>\n",
       "      <td>0</td>\n",
       "      <td>0</td>\n",
       "      <td>0</td>\n",
       "      <td>0</td>\n",
       "      <td>0</td>\n",
       "    </tr>\n",
       "    <tr>\n",
       "      <th>159568</th>\n",
       "      <td>ffee36eab5c267c9</td>\n",
       "      <td>Spitzer \\n\\nUmm, theres no actual article for ...</td>\n",
       "      <td>0</td>\n",
       "      <td>0</td>\n",
       "      <td>0</td>\n",
       "      <td>0</td>\n",
       "      <td>0</td>\n",
       "      <td>0</td>\n",
       "    </tr>\n",
       "    <tr>\n",
       "      <th>159569</th>\n",
       "      <td>fff125370e4aaaf3</td>\n",
       "      <td>And it looks like it was actually you who put ...</td>\n",
       "      <td>0</td>\n",
       "      <td>0</td>\n",
       "      <td>0</td>\n",
       "      <td>0</td>\n",
       "      <td>0</td>\n",
       "      <td>0</td>\n",
       "    </tr>\n",
       "    <tr>\n",
       "      <th>159570</th>\n",
       "      <td>fff46fc426af1f9a</td>\n",
       "      <td>\"\\nAnd ... I really don't think you understand...</td>\n",
       "      <td>0</td>\n",
       "      <td>0</td>\n",
       "      <td>0</td>\n",
       "      <td>0</td>\n",
       "      <td>0</td>\n",
       "      <td>0</td>\n",
       "    </tr>\n",
       "  </tbody>\n",
       "</table>\n",
       "<p>159571 rows × 8 columns</p>\n",
       "</div>"
      ],
      "text/plain": [
       "                      id                                       comment_text  \\\n",
       "0       0000997932d777bf  Explanation\\nWhy the edits made under my usern...   \n",
       "1       000103f0d9cfb60f  D'aww! He matches this background colour I'm s...   \n",
       "2       000113f07ec002fd  Hey man, I'm really not trying to edit war. It...   \n",
       "3       0001b41b1c6bb37e  \"\\nMore\\nI can't make any real suggestions on ...   \n",
       "4       0001d958c54c6e35  You, sir, are my hero. Any chance you remember...   \n",
       "...                  ...                                                ...   \n",
       "159566  ffe987279560d7ff  \":::::And for the second time of asking, when ...   \n",
       "159567  ffea4adeee384e90  You should be ashamed of yourself \\n\\nThat is ...   \n",
       "159568  ffee36eab5c267c9  Spitzer \\n\\nUmm, theres no actual article for ...   \n",
       "159569  fff125370e4aaaf3  And it looks like it was actually you who put ...   \n",
       "159570  fff46fc426af1f9a  \"\\nAnd ... I really don't think you understand...   \n",
       "\n",
       "        toxic  severe_toxic  obscene  threat  insult  identity_hate  \n",
       "0           0             0        0       0       0              0  \n",
       "1           0             0        0       0       0              0  \n",
       "2           0             0        0       0       0              0  \n",
       "3           0             0        0       0       0              0  \n",
       "4           0             0        0       0       0              0  \n",
       "...       ...           ...      ...     ...     ...            ...  \n",
       "159566      0             0        0       0       0              0  \n",
       "159567      0             0        0       0       0              0  \n",
       "159568      0             0        0       0       0              0  \n",
       "159569      0             0        0       0       0              0  \n",
       "159570      0             0        0       0       0              0  \n",
       "\n",
       "[159571 rows x 8 columns]"
      ]
     },
     "execution_count": 5,
     "metadata": {},
     "output_type": "execute_result"
    }
   ],
   "source": [
    "dataframe"
   ]
  },
  {
   "cell_type": "code",
   "execution_count": 13,
   "metadata": {},
   "outputs": [
    {
     "data": {
      "text/plain": [
       "Index(['toxic', 'severe_toxic', 'obscene', 'threat', 'insult',\n",
       "       'identity_hate'],\n",
       "      dtype='object')"
      ]
     },
     "execution_count": 13,
     "metadata": {},
     "output_type": "execute_result"
    }
   ],
   "source": [
    "dataframe.columns[2:]"
   ]
  },
  {
   "cell_type": "markdown",
   "metadata": {},
   "source": [
    "Preprocessing"
   ]
  },
  {
   "cell_type": "code",
   "execution_count": 15,
   "metadata": {},
   "outputs": [],
   "source": [
    "from tensorflow.keras.layers import TextVectorization"
   ]
  },
  {
   "cell_type": "code",
   "execution_count": 16,
   "metadata": {},
   "outputs": [],
   "source": [
    "x = dataframe['comment_text']\n",
    "y= dataframe[dataframe.columns[2:]].values"
   ]
  },
  {
   "cell_type": "code",
   "execution_count": 17,
   "metadata": {},
   "outputs": [
    {
     "data": {
      "text/plain": [
       "0         Explanation\\nWhy the edits made under my usern...\n",
       "1         D'aww! He matches this background colour I'm s...\n",
       "2         Hey man, I'm really not trying to edit war. It...\n",
       "3         \"\\nMore\\nI can't make any real suggestions on ...\n",
       "4         You, sir, are my hero. Any chance you remember...\n",
       "                                ...                        \n",
       "159566    \":::::And for the second time of asking, when ...\n",
       "159567    You should be ashamed of yourself \\n\\nThat is ...\n",
       "159568    Spitzer \\n\\nUmm, theres no actual article for ...\n",
       "159569    And it looks like it was actually you who put ...\n",
       "159570    \"\\nAnd ... I really don't think you understand...\n",
       "Name: comment_text, Length: 159571, dtype: object"
      ]
     },
     "execution_count": 17,
     "metadata": {},
     "output_type": "execute_result"
    }
   ],
   "source": [
    "x"
   ]
  },
  {
   "cell_type": "code",
   "execution_count": 18,
   "metadata": {},
   "outputs": [
    {
     "data": {
      "text/plain": [
       "array([[0, 0, 0, 0, 0, 0],\n",
       "       [0, 0, 0, 0, 0, 0],\n",
       "       [0, 0, 0, 0, 0, 0],\n",
       "       ...,\n",
       "       [0, 0, 0, 0, 0, 0],\n",
       "       [0, 0, 0, 0, 0, 0],\n",
       "       [0, 0, 0, 0, 0, 0]], dtype=int64)"
      ]
     },
     "execution_count": 18,
     "metadata": {},
     "output_type": "execute_result"
    }
   ],
   "source": [
    "y"
   ]
  },
  {
   "cell_type": "code",
   "execution_count": 19,
   "metadata": {},
   "outputs": [],
   "source": [
    "MAX_FEATURES = 200000 #No of words in the vocab"
   ]
  },
  {
   "cell_type": "code",
   "execution_count": 20,
   "metadata": {},
   "outputs": [],
   "source": [
    "vectorizer = TextVectorization(max_tokens=MAX_FEATURES, output_sequence_length=1800, output_mode='int')"
   ]
  },
  {
   "cell_type": "code",
   "execution_count": 21,
   "metadata": {},
   "outputs": [],
   "source": [
    "vectorizer.adapt(x.values)"
   ]
  },
  {
   "cell_type": "code",
   "execution_count": 22,
   "metadata": {},
   "outputs": [],
   "source": [
    "vectorized_text = vectorizer(x.values)"
   ]
  },
  {
   "cell_type": "code",
   "execution_count": 23,
   "metadata": {},
   "outputs": [
    {
     "data": {
      "text/plain": [
       "<tf.Tensor: shape=(159571, 1800), dtype=int64, numpy=\n",
       "array([[  643,    76,     2, ...,     0,     0,     0],\n",
       "       [    1,    54,  2506, ...,     0,     0,     0],\n",
       "       [  425,   440,    70, ...,     0,     0,     0],\n",
       "       ...,\n",
       "       [32141,  7329,   383, ...,     0,     0,     0],\n",
       "       [    5,    12,   533, ...,     0,     0,     0],\n",
       "       [    5,     8,   130, ...,     0,     0,     0]], dtype=int64)>"
      ]
     },
     "execution_count": 23,
     "metadata": {},
     "output_type": "execute_result"
    }
   ],
   "source": [
    "vectorized_text"
   ]
  },
  {
   "cell_type": "code",
   "execution_count": 13,
   "metadata": {},
   "outputs": [],
   "source": [
    "#MCSHBAP map, cache, shuffle, batch, prefetch"
   ]
  },
  {
   "cell_type": "code",
   "execution_count": 14,
   "metadata": {},
   "outputs": [],
   "source": [
    "dataset = tf.data.Dataset.from_tensor_slices((vectorized_text, y))\n",
    "dataset = dataset.cache()\n",
    "dataset = dataset.shuffle(160000)\n",
    "dataset = dataset.batch(16)\n",
    "dataset = dataset.prefetch(8)"
   ]
  },
  {
   "cell_type": "code",
   "execution_count": 15,
   "metadata": {},
   "outputs": [],
   "source": [
    "batch_x, batch_y = dataset.as_numpy_iterator().next()"
   ]
  },
  {
   "cell_type": "code",
   "execution_count": 16,
   "metadata": {},
   "outputs": [],
   "source": [
    "train = dataset.take(int(len(dataset)*0.7))\n",
    "val = dataset.skip(int(len(dataset)*0.7)).take(int(len(dataset)*0.2))\n",
    "test = dataset.take(int(len(dataset)*0.9)).take(int(len(dataset)*0.1))"
   ]
  },
  {
   "cell_type": "markdown",
   "metadata": {},
   "source": [
    "Checking the size of partitions"
   ]
  },
  {
   "cell_type": "code",
   "execution_count": 26,
   "metadata": {},
   "outputs": [
    {
     "name": "stdout",
     "output_type": "stream",
     "text": [
      "Length of train is:6981, Length of validation is:1994, Length of test is:997\n"
     ]
    }
   ],
   "source": [
    "print(f'Length of train is:{len(train)}, Length of validation is:{len(val)}, Length of test is:{len(test)}')"
   ]
  },
  {
   "cell_type": "code",
   "execution_count": 17,
   "metadata": {},
   "outputs": [
    {
     "data": {
      "text/plain": [
       "(array([[ 26137,  26996,   4038, ...,      0,      0,      0],\n",
       "        [ 59404,    265,     23, ...,      0,      0,      0],\n",
       "        [     5,    152,    124, ...,      0,      0,      0],\n",
       "        ...,\n",
       "        [     9,      2,   1779, ...,      0,      0,      0],\n",
       "        [    76,      9, 178061, ...,      0,      0,      0],\n",
       "        [    49,   2757,     49, ...,      0,      0,      0]], dtype=int64),\n",
       " array([[0, 0, 0, 0, 0, 0],\n",
       "        [0, 0, 0, 0, 0, 0],\n",
       "        [0, 0, 0, 0, 0, 0],\n",
       "        [0, 0, 0, 0, 0, 0],\n",
       "        [0, 0, 0, 0, 0, 0],\n",
       "        [0, 0, 0, 0, 0, 0],\n",
       "        [1, 1, 1, 0, 1, 0],\n",
       "        [0, 0, 0, 0, 0, 0],\n",
       "        [0, 0, 0, 0, 0, 0],\n",
       "        [0, 0, 0, 0, 0, 0],\n",
       "        [0, 0, 0, 0, 0, 0],\n",
       "        [0, 0, 0, 0, 0, 0],\n",
       "        [0, 0, 0, 0, 0, 0],\n",
       "        [0, 0, 0, 0, 0, 0],\n",
       "        [0, 0, 0, 0, 0, 0],\n",
       "        [0, 0, 0, 0, 0, 0]], dtype=int64))"
      ]
     },
     "execution_count": 17,
     "metadata": {},
     "output_type": "execute_result"
    }
   ],
   "source": [
    "train.as_numpy_iterator().next()"
   ]
  },
  {
   "cell_type": "code",
   "execution_count": 18,
   "metadata": {},
   "outputs": [],
   "source": [
    "from tensorflow.keras.models import Sequential\n",
    "from tensorflow.keras.layers import LSTM, Dropout, Bidirectional, Dense, Embedding"
   ]
  },
  {
   "cell_type": "code",
   "execution_count": 19,
   "metadata": {},
   "outputs": [],
   "source": [
    "model = Sequential()\n",
    "model.add(Embedding(MAX_FEATURES+1, 32))\n",
    "model.add(Bidirectional(LSTM(32, activation='tanh')))\n",
    "model.add(Dense(128, activation='relu'))\n",
    "model.add(Dense(256, activation='relu'))\n",
    "model.add(Dense(128, activation='relu'))\n",
    "model.add(Dense(6, activation='sigmoid'))"
   ]
  },
  {
   "cell_type": "code",
   "execution_count": 20,
   "metadata": {},
   "outputs": [],
   "source": [
    "model.compile(loss='BinaryCrossentropy', optimizer='Adam')"
   ]
  },
  {
   "cell_type": "code",
   "execution_count": 21,
   "metadata": {},
   "outputs": [
    {
     "name": "stdout",
     "output_type": "stream",
     "text": [
      "Model: \"sequential\"\n",
      "_________________________________________________________________\n",
      " Layer (type)                Output Shape              Param #   \n",
      "=================================================================\n",
      " embedding (Embedding)       (None, None, 32)          6400032   \n",
      "                                                                 \n",
      " bidirectional (Bidirectiona  (None, 64)               16640     \n",
      " l)                                                              \n",
      "                                                                 \n",
      " dense (Dense)               (None, 128)               8320      \n",
      "                                                                 \n",
      " dense_1 (Dense)             (None, 256)               33024     \n",
      "                                                                 \n",
      " dense_2 (Dense)             (None, 128)               32896     \n",
      "                                                                 \n",
      " dense_3 (Dense)             (None, 6)                 774       \n",
      "                                                                 \n",
      "=================================================================\n",
      "Total params: 6,491,686\n",
      "Trainable params: 6,491,686\n",
      "Non-trainable params: 0\n",
      "_________________________________________________________________\n"
     ]
    }
   ],
   "source": [
    "model.summary()"
   ]
  },
  {
   "cell_type": "code",
   "execution_count": 29,
   "metadata": {},
   "outputs": [
    {
     "name": "stdout",
     "output_type": "stream",
     "text": [
      "Epoch 1/10\n",
      "6981/6981 [==============================] - 1290s 185ms/step - loss: 0.0622 - val_loss: 0.0478\n",
      "Epoch 2/10\n",
      "6981/6981 [==============================] - 1330s 190ms/step - loss: 0.0462 - val_loss: 0.0406\n",
      "Epoch 3/10\n",
      "6981/6981 [==============================] - 1327s 190ms/step - loss: 0.0412 - val_loss: 0.0350\n",
      "Epoch 4/10\n",
      "6981/6981 [==============================] - 1338s 192ms/step - loss: 0.0370 - val_loss: 0.0330\n",
      "Epoch 5/10\n",
      "6981/6981 [==============================] - 1337s 191ms/step - loss: 0.0332 - val_loss: 0.0291\n",
      "Epoch 6/10\n",
      "6981/6981 [==============================] - 1338s 192ms/step - loss: 0.0295 - val_loss: 0.0258\n",
      "Epoch 7/10\n",
      "6981/6981 [==============================] - 1327s 190ms/step - loss: 0.0268 - val_loss: 0.0232\n",
      "Epoch 8/10\n",
      "6981/6981 [==============================] - 1335s 191ms/step - loss: 0.0244 - val_loss: 0.0211\n",
      "Epoch 9/10\n",
      "6981/6981 [==============================] - 1337s 192ms/step - loss: 0.0214 - val_loss: 0.0207\n",
      "Epoch 10/10\n",
      "6981/6981 [==============================] - 1338s 192ms/step - loss: 0.0193 - val_loss: 0.0163\n"
     ]
    }
   ],
   "source": [
    "history = model.fit(train, epochs=10, validation_data=val)"
   ]
  },
  {
   "cell_type": "code",
   "execution_count": 39,
   "metadata": {},
   "outputs": [],
   "source": [
    "import matplotlib.pyplot as plt"
   ]
  },
  {
   "cell_type": "code",
   "execution_count": 41,
   "metadata": {},
   "outputs": [
    {
     "data": {
      "image/png": "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",
      "text/plain": [
       "<Figure size 432x288 with 1 Axes>"
      ]
     },
     "metadata": {
      "needs_background": "light"
     },
     "output_type": "display_data"
    }
   ],
   "source": [
    "plt.plot(history.history['loss'], color='blue', label='loss')\n",
    "plt.plot(history.history['val_loss'], color='red', label='val_loss')\n",
    "plt.title('Loss')\n",
    "plt.legend()\n",
    "plt.show()"
   ]
  },
  {
   "cell_type": "code",
   "execution_count": 42,
   "metadata": {},
   "outputs": [],
   "source": [
    "input_text = vectorizer(\"You don't suck at all\")"
   ]
  },
  {
   "cell_type": "code",
   "execution_count": 43,
   "metadata": {},
   "outputs": [
    {
     "name": "stdout",
     "output_type": "stream",
     "text": [
      "1/1 [==============================] - 1s 632ms/step\n"
     ]
    }
   ],
   "source": [
    "res = model.predict(np.expand_dims(input_text, 0))"
   ]
  },
  {
   "cell_type": "code",
   "execution_count": 44,
   "metadata": {},
   "outputs": [
    {
     "data": {
      "text/plain": [
       "Index(['toxic', 'severe_toxic', 'obscene', 'threat', 'insult',\n",
       "       'identity_hate'],\n",
       "      dtype='object')"
      ]
     },
     "execution_count": 44,
     "metadata": {},
     "output_type": "execute_result"
    }
   ],
   "source": [
    "labels = dataframe.columns\n",
    "labels[2:]"
   ]
  },
  {
   "cell_type": "code",
   "execution_count": 45,
   "metadata": {},
   "outputs": [],
   "source": [
    "batch = test.as_numpy_iterator().next()"
   ]
  },
  {
   "cell_type": "code",
   "execution_count": 46,
   "metadata": {},
   "outputs": [],
   "source": [
    "batch_x, batch_y = batch"
   ]
  },
  {
   "cell_type": "code",
   "execution_count": 47,
   "metadata": {},
   "outputs": [
    {
     "data": {
      "text/plain": [
       "array([[0, 0, 0, 0, 0, 0],\n",
       "       [0, 0, 0, 0, 0, 0],\n",
       "       [0, 0, 0, 0, 0, 0],\n",
       "       [0, 0, 0, 0, 0, 0],\n",
       "       [0, 0, 0, 0, 0, 0],\n",
       "       [0, 0, 0, 0, 0, 0],\n",
       "       [0, 0, 0, 0, 0, 0],\n",
       "       [0, 0, 1, 0, 0, 0],\n",
       "       [0, 0, 0, 0, 0, 0],\n",
       "       [0, 0, 0, 0, 0, 0],\n",
       "       [0, 0, 0, 0, 0, 0],\n",
       "       [0, 0, 0, 0, 0, 0],\n",
       "       [0, 0, 0, 0, 0, 0],\n",
       "       [0, 0, 0, 0, 0, 0],\n",
       "       [0, 0, 0, 0, 0, 0],\n",
       "       [0, 0, 0, 0, 0, 0]], dtype=int64)"
      ]
     },
     "execution_count": 47,
     "metadata": {},
     "output_type": "execute_result"
    }
   ],
   "source": [
    "batch_y"
   ]
  },
  {
   "cell_type": "code",
   "execution_count": 48,
   "metadata": {},
   "outputs": [
    {
     "name": "stdout",
     "output_type": "stream",
     "text": [
      "1/1 [==============================] - 0s 107ms/step\n"
     ]
    },
    {
     "data": {
      "text/plain": [
       "array([[0, 0, 0, 0, 0, 0],\n",
       "       [0, 0, 0, 0, 0, 0],\n",
       "       [0, 0, 0, 0, 0, 0],\n",
       "       [0, 0, 0, 0, 0, 0],\n",
       "       [0, 0, 0, 0, 0, 0],\n",
       "       [0, 0, 0, 0, 0, 0],\n",
       "       [0, 0, 0, 0, 0, 0],\n",
       "       [0, 0, 1, 0, 0, 0],\n",
       "       [0, 0, 0, 0, 0, 0],\n",
       "       [0, 0, 0, 0, 0, 0],\n",
       "       [0, 0, 0, 0, 0, 0],\n",
       "       [0, 0, 0, 0, 0, 0],\n",
       "       [0, 0, 0, 0, 0, 0],\n",
       "       [0, 0, 0, 0, 0, 0],\n",
       "       [0, 0, 0, 0, 0, 0],\n",
       "       [0, 0, 0, 0, 0, 0]])"
      ]
     },
     "execution_count": 48,
     "metadata": {},
     "output_type": "execute_result"
    }
   ],
   "source": [
    "(model.predict(batch_x) > 0.5).astype(int)"
   ]
  },
  {
   "cell_type": "code",
   "execution_count": 49,
   "metadata": {},
   "outputs": [
    {
     "data": {
      "text/plain": [
       "array([[1, 0, 1, 0, 0, 0]])"
      ]
     },
     "execution_count": 49,
     "metadata": {},
     "output_type": "execute_result"
    }
   ],
   "source": [
    "(res > 0.5).astype(int)"
   ]
  },
  {
   "cell_type": "code",
   "execution_count": 89,
   "metadata": {},
   "outputs": [],
   "source": [
    "from tensorflow.keras.metrics import Precision, Recall, CategoricalAccuracy"
   ]
  },
  {
   "cell_type": "code",
   "execution_count": 90,
   "metadata": {},
   "outputs": [],
   "source": [
    "precision = Precision()\n",
    "recall = Recall()\n",
    "accuracy = CategoricalAccuracy()"
   ]
  },
  {
   "cell_type": "code",
   "execution_count": 91,
   "metadata": {},
   "outputs": [
    {
     ]
    }
   ],
   "source": [
    "for batch in test.as_numpy_iterator():\n",
    "    x_true, y_true = batch\n",
    "    \n",
    "    yhat = model.predict(x_true)\n",
    "\n",
    "    y_true = y_true.flatten()\n",
    "    yhat = yhat.flatten()\n",
    "\n",
    "    precision.update_state(y_true, yhat)\n",
    "    recall.update_state(y_true, yhat)\n",
    "    accuracy.update_state(y_true, yhat)"
   ]
  },
  {
   "cell_type": "code",
   "execution_count": 92,
   "metadata": {},
   "outputs": [
    {
     "name": "stdout",
     "output_type": "stream",
     "text": [
      "Precision0.8139386177062988, Recall:0.6965800523757935, Accuracy:0.451354056596756,\n"
     ]
    }
   ],
   "source": [
    "print(f'Precision{precision.result().numpy()}, Recall:{recall.result().numpy()}, Accuracy:{accuracy.result().numpy()},')"
   ]
  },
  {
   "cell_type": "code",
   "execution_count": 50,
   "metadata": {},
   "outputs": [],
   "source": [
    "import gradio as gr"
   ]
  },
  {
   "cell_type": "code",
   "execution_count": 51,
   "metadata": {},
   "outputs": [],
   "source": [
    "model.save('toxicity.h5')"
   ]
  },
  {
   "cell_type": "code",
   "execution_count": 52,
   "metadata": {},
   "outputs": [],
   "source": [
    "from tensorflow.keras.models import load_model"
   ]
  },
  {
   "cell_type": "code",
   "execution_count": 53,
   "metadata": {},
   "outputs": [],
   "source": [
    "toxicity = load_model('toxicity.h5')"
   ]
  },
  {
   "cell_type": "code",
   "execution_count": 54,
   "metadata": {},
   "outputs": [
    {
     "name": "stdout",
     "output_type": "stream",
     "text": [
      "Model: \"sequential\"\n",
      "_________________________________________________________________\n",
      " Layer (type)                Output Shape              Param #   \n",
      "=================================================================\n",
      " embedding (Embedding)       (None, None, 32)          6400032   \n",
      "                                                                 \n",
      " bidirectional (Bidirectiona  (None, 64)               16640     \n",
      " l)                                                              \n",
      "                                                                 \n",
      " dense (Dense)               (None, 128)               8320      \n",
      "                                                                 \n",
      " dense_1 (Dense)             (None, 256)               33024     \n",
      "                                                                 \n",
      " dense_2 (Dense)             (None, 128)               32896     \n",
      "                                                                 \n",
      " dense_3 (Dense)             (None, 6)                 774       \n",
      "                                                                 \n",
      "=================================================================\n",
      "Total params: 6,491,686\n",
      "Trainable params: 6,491,686\n",
      "Non-trainable params: 0\n",
      "_________________________________________________________________\n"
     ]
    }
   ],
   "source": [
    "toxicity.summary()"
   ]
  },
  {
   "cell_type": "code",
   "execution_count": 69,
   "metadata": {},
   "outputs": [],
   "source": [
    "input_str = vectorizer('You freaking suck at this game')"
   ]
  },
  {
   "cell_type": "code",
   "execution_count": 70,
   "metadata": {},
   "outputs": [
    {
     "name": "stdout",
     "output_type": "stream",
     "text": [
      "1/1 [==============================] - 0s 98ms/step\n"
     ]
    }
   ],
   "source": [
    "res = model.predict(np.expand_dims(input_str, 0))"
   ]
  },
  {
   "cell_type": "code",
   "execution_count": 77,
   "metadata": {},
   "outputs": [
    {
     "data": {
      "text/plain": [
       "array([[1, 0, 1, 0, 1, 0]])"
      ]
     },
     "execution_count": 77,
     "metadata": {},
     "output_type": "execute_result"
    }
   ],
   "source": [
    "(res > 0.5).astype(int)"
   ]
  },
  {
   "cell_type": "code",
   "execution_count": 81,
   "metadata": {},
   "outputs": [],
   "source": [
    "def score_comment(comment):\n",
    "    vectorized_comment = vectorizer([comment])\n",
    "    results = model.predict(vectorized_comment)\n",
    "    \n",
    "    text = ''\n",
    "    for idx, col in enumerate(dataframe.columns[2:]):\n",
    "        text += '{}: {}\\n'.format(col, results[0][idx]>0.5)\n",
    "    \n",
    "    return text"
   ]
  },
  {
   "cell_type": "code",
   "execution_count": 82,
   "metadata": {},
   "outputs": [
    {
     "name": "stderr",
     "output_type": "stream",
     "text": [
      "c:\\Users\\Administrator\\Documents\\Code files\\Comment_Toxicity\\toxicity\\lib\\site-packages\\gradio\\deprecation.py:40: UserWarning: `optional` parameter is deprecated, and it has no effect\n",
      "  warnings.warn(value)\n",
      "c:\\Users\\Administrator\\Documents\\Code files\\Comment_Toxicity\\toxicity\\lib\\site-packages\\gradio\\deprecation.py:40: UserWarning: `numeric` parameter is deprecated, and it has no effect\n",
      "  warnings.warn(value)\n",
      "c:\\Users\\Administrator\\Documents\\Code files\\Comment_Toxicity\\toxicity\\lib\\site-packages\\gradio\\deprecation.py:40: UserWarning: The 'type' parameter has been deprecated. Use the Number component instead.\n",
      "  warnings.warn(value)\n"
     ]
    }
   ],
   "source": [
    "interface = gr.Interface(fn=score_comment, \n",
    "                         inputs=gr.inputs.Textbox(lines=2, placeholder='Comment to score'),\n",
    "                        outputs='text')"
   ]
  },
  {
   "cell_type": "code",
   "execution_count": 83,
   "metadata": {},
   "outputs": [
    {
     "name": "stdout",
     "output_type": "stream",
     "text": [
      "Running on local URL:  http://127.0.0.1:7862/\n",
      "Running on public URL: https://19201.gradio.app\n",
      "\n",
      "This share link expires in 72 hours. For free permanent hosting, check out Spaces (https://huggingface.co/spaces)\n"
     ]
    },
    {
     "data": {
      "text/html": [
       "<div><iframe src=\"https://19201.gradio.app\" width=\"900\" height=\"500\" allow=\"autoplay; camera; microphone;\" frameborder=\"0\" allowfullscreen></iframe></div>"
      ],
      "text/plain": [
       "<IPython.core.display.HTML object>"
      ]
     },
     "metadata": {},
     "output_type": "display_data"
    },
    {
     "data": {
      "text/plain": [
       "(<gradio.routes.App at 0x1befe815b50>,\n",
       " 'http://127.0.0.1:7862/',\n",
       " 'https://19201.gradio.app')"
      ]
     },
     "execution_count": 83,
     "metadata": {},
     "output_type": "execute_result"
    },
    {
     "name": "stdout",
     "output_type": "stream",
     "text": [
      "1/1 [==============================] - 0s 101ms/step\n",
      "1/1 [==============================] - 0s 105ms/step\n",
      "1/1 [==============================] - 0s 114ms/step\n"
     ]
    }
   ],
   "source": [
    "interface.launch(share=True)"
   ]
  },
  {
   "cell_type": "markdown",
   "metadata": {},
   "source": [
    "Saving vectorizer model"
   ]
  },
  {
   "cell_type": "code",
   "execution_count": 24,
   "metadata": {},
   "outputs": [],
   "source": [
    "textvect = tf.keras.models.Sequential()\n",
    "textvect.add(tf.keras.Input(shape=(1,), dtype=tf.string))\n",
    "textvect.add(vectorizer)"
   ]
  },
  {
   "cell_type": "code",
   "execution_count": 26,
   "metadata": {},
   "outputs": [
    {
     "name": "stdout",
     "output_type": "stream",
     "text": [
      "WARNING:tensorflow:Compiled the loaded model, but the compiled metrics have yet to be built. `model.compile_metrics` will be empty until you train or evaluate the model.\n",
      "INFO:tensorflow:Assets written to: vectorizer.tf\\assets\n"
     ]
    }
   ],
   "source": [
    "textvect.save('vectorizer.tf')"
   ]
  },
  {
   "cell_type": "code",
   "execution_count": 28,
   "metadata": {},
   "outputs": [],
   "source": [
    "from tensorflow.keras.models import load_model"
   ]
  },
  {
   "cell_type": "code",
   "execution_count": 29,
   "metadata": {},
   "outputs": [
    {
     "name": "stdout",
     "output_type": "stream",
     "text": [
      "WARNING:tensorflow:No training configuration found in save file, so the model was *not* compiled. Compile it manually.\n"
     ]
    }
   ],
   "source": [
    "loaded_vect_model = load_model('vectorizer.tf')\n",
    "vect_model = loaded_vect_model.layers[0]"
   ]
  },
  {
   "cell_type": "code",
   "execution_count": 37,
   "metadata": {},
   "outputs": [
    {
     "name": "stdout",
     "output_type": "stream",
     "text": [
      "tf.Tensor(\n",
      "[[  643    76     2 ...     0     0     0]\n",
      " [    1    54  2506 ...     0     0     0]\n",
      " [  425   440    70 ...     0     0     0]\n",
      " ...\n",
      " [32141  7329   383 ...     0     0     0]\n",
      " [    5    12   533 ...     0     0     0]\n",
      " [    5     8   130 ...     0     0     0]], shape=(159571, 1800), dtype=int64)\n"
     ]
    }
   ],
   "source": [
    "print(vect_model(x.values))"
   ]
  },
  {
   "cell_type": "code",
   "execution_count": 39,
   "metadata": {},
   "outputs": [
    {
     "name": "stdout",
     "output_type": "stream",
     "text": [
      "tf.Tensor(\n",
      "[[  643    76     2 ...     0     0     0]\n",
      " [    1    54  2506 ...     0     0     0]\n",
      " [  425   440    70 ...     0     0     0]\n",
      " ...\n",
      " [32141  7329   383 ...     0     0     0]\n",
      " [    5    12   533 ...     0     0     0]\n",
      " [    5     8   130 ...     0     0     0]], shape=(159571, 1800), dtype=int64)\n"
     ]
    }
   ],
   "source": [
    "print(vectorizer(x.values))"
   ]
  }
 ],
 "metadata": {
  "kernelspec": {
   "display_name": "Python 3.9.12 ('toxicity': venv)",
   "language": "python",
   "name": "python3"
  },
  "language_info": {
   "codemirror_mode": {
    "name": "ipython",
    "version": 3
   },
   "file_extension": ".py",
   "mimetype": "text/x-python",
   "name": "python",
   "nbconvert_exporter": "python",
   "pygments_lexer": "ipython3",
   "version": "3.9.12"
  },
  "orig_nbformat": 4,
  "vscode": {
   "interpreter": {
    "hash": "567bc6526ab10ab9dd1a64d7149a59f0a1460d59d7bbf96ca1ad77054d41d3b3"
   }
  }
 },
 "nbformat": 4,
 "nbformat_minor": 2
}
